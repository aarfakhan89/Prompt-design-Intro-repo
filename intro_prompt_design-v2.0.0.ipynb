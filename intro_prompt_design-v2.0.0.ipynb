{
 "cells": [
  {
   "cell_type": "code",
   "execution_count": null,
   "metadata": {
    "id": "ur8xi4C7S06n"
   },
   "outputs": [],
   "source": [
    "# Copyright 2024 Google LLC\n",
    "#\n",
    "# Licensed under the Apache License, Version 2.0 (the \"License\");\n",
    "# you may not use this file except in compliance with the License.\n",
    "# You may obtain a copy of the License at\n",
    "#\n",
    "#     https://www.apache.org/licenses/LICENSE-2.0\n",
    "#\n",
    "# Unless required by applicable law or agreed to in writing, software\n",
    "# distributed under the License is distributed on an \"AS IS\" BASIS,\n",
    "# WITHOUT WARRANTIES OR CONDITIONS OF ANY KIND, either express or implied.\n",
    "# See the License for the specific language governing permissions and\n",
    "# limitations under the License."
   ]
  },
  {
   "cell_type": "markdown",
   "metadata": {
    "id": "JAPoU8Sm5E6e"
   },
   "source": [
    "# Prompt Design - Best Practices\n",
    "\n",
    "<table align=\"left\">\n",
    "  <td style=\"text-align: center\">\n",
    "    <a href=\"https://colab.research.google.com/github/GoogleCloudPlatform/generative-ai/blob/main/gemini/prompts/intro_prompt_design.ipynb\">\n",
    "      <img src=\"https://cloud.google.com/ml-engine/images/colab-logo-32px.png\" alt=\"Google Colaboratory logo\"><br> Open in Colab\n",
    "    </a>\n",
    "  </td>\n",
    "  <td style=\"text-align: center\">\n",
    "    <a href=\"https://console.cloud.google.com/vertex-ai/colab/import/https:%2F%2Fraw.githubusercontent.com%2FGoogleCloudPlatform%2Fgenerative-ai%2Fmain%2Fgemini%2Fprompts%2Fintro_prompt_design.ipynb\">\n",
    "      <img width=\"32px\" src=\"https://lh3.googleusercontent.com/JmcxdQi-qOpctIvWKgPtrzZdJJK-J3sWE1RsfjZNwshCFgE_9fULcNpuXYTilIR2hjwN\" alt=\"Google Cloud Colab Enterprise logo\"><br> Open in Colab Enterprise\n",
    "    </a>\n",
    "  </td>    \n",
    "  <td style=\"text-align: center\">\n",
    "    <a href=\"https://console.cloud.google.com/vertex-ai/workbench/deploy-notebook?download_url=https://raw.githubusercontent.com/GoogleCloudPlatform/generative-ai/main/gemini/prompts/intro_prompt_design.ipynb\">\n",
    "      <img src=\"https://lh3.googleusercontent.com/UiNooY4LUgW_oTvpsNhPpQzsstV5W8F7rYgxgGBD85cWJoLmrOzhVs_ksK_vgx40SHs7jCqkTkCk=e14-rj-sc0xffffff-h130-w32\" alt=\"Vertex AI logo\"><br> Open in Workbench\n",
    "    </a>\n",
    "  </td>\n",
    "  <td style=\"text-align: center\">\n",
    "    <a href=\"https://github.com/GoogleCloudPlatform/generative-ai/blob/main/gemini/prompts/intro_prompt_design.ipynb\">\n",
    "      <img src=\"https://cloud.google.com/ml-engine/images/github-logo-32px.png\" alt=\"GitHub logo\"><br> View on GitHub\n",
    "    </a>\n",
    "  </td>\n",
    "  <td style=\"text-align: center\">\n",
    "    <a href=\"https://goo.gle/4fWHlze\">\n",
    "      <img width=\"32px\" src=\"https://cdn.qwiklabs.com/assets/gcp_cloud-e3a77215f0b8bfa9b3f611c0d2208c7e8708ed31.svg\" alt=\"Google Cloud logo\"><br> Open in  Cloud Skills Boost\n",
    "    </a>\n",
    "  </td>\n",
    "</table>\n",
    "\n",
    "<div style=\"clear: both;\"></div>\n",
    "\n",
    "<b>Share to:</b>\n",
    "\n",
    "<a href=\"https://www.linkedin.com/sharing/share-offsite/?url=https%3A//github.com/GoogleCloudPlatform/generative-ai/blob/main/gemini/prompts/intro_prompt_design.ipynb\" target=\"_blank\">\n",
    "  <img width=\"20px\" src=\"https://upload.wikimedia.org/wikipedia/commons/8/81/LinkedIn_icon.svg\" alt=\"LinkedIn logo\">\n",
    "</a>\n",
    "\n",
    "<a href=\"https://bsky.app/intent/compose?text=https%3A//github.com/GoogleCloudPlatform/generative-ai/blob/main/gemini/prompts/intro_prompt_design.ipynb\" target=\"_blank\">\n",
    "  <img width=\"20px\" src=\"https://upload.wikimedia.org/wikipedia/commons/7/7a/Bluesky_Logo.svg\" alt=\"Bluesky logo\">\n",
    "</a>\n",
    "\n",
    "<a href=\"https://twitter.com/intent/tweet?url=https%3A//github.com/GoogleCloudPlatform/generative-ai/blob/main/gemini/prompts/intro_prompt_design.ipynb\" target=\"_blank\">\n",
    "  <img width=\"20px\" src=\"https://upload.wikimedia.org/wikipedia/commons/5/53/X_logo_2023_original.svg\" alt=\"X logo\">\n",
    "</a>\n",
    "\n",
    "<a href=\"https://reddit.com/submit?url=https%3A//github.com/GoogleCloudPlatform/generative-ai/blob/main/gemini/prompts/intro_prompt_design.ipynb\" target=\"_blank\">\n",
    "  <img width=\"20px\" src=\"https://redditinc.com/hubfs/Reddit%20Inc/Brand/Reddit_Logo.png\" alt=\"Reddit logo\">\n",
    "</a>\n",
    "\n",
    "<a href=\"https://www.facebook.com/sharer/sharer.php?u=https%3A//github.com/GoogleCloudPlatform/generative-ai/blob/main/gemini/prompts/intro_prompt_design.ipynb\" target=\"_blank\">\n",
    "  <img width=\"20px\" src=\"https://upload.wikimedia.org/wikipedia/commons/5/51/Facebook_f_logo_%282019%29.svg\" alt=\"Facebook logo\">\n",
    "</a>            "
   ]
  },
  {
   "cell_type": "markdown",
   "metadata": {
    "id": "84f0f73a0f76"
   },
   "source": [
    "| | |\n",
    "|-|-|\n",
    "|Author(s) | [Polong Lin](https://github.com/polong-lin), [Karl Weinmeister](https://github.com/kweinmeister) |"
   ]
  },
  {
   "cell_type": "markdown",
   "metadata": {
    "id": "tvgnzT1CKxrO"
   },
   "source": [
    "## Overview\n",
    "\n",
    "This notebook covers the essentials of prompt engineering, including some best practices.\n",
    "\n",
    "Learn more about prompt design in the [official documentation](https://cloud.google.com/vertex-ai/docs/generative-ai/text/text-overview).\n",
    "\n",
    "In this notebook, you learn best practices around prompt engineering -- how to design prompts to improve the quality of your responses.\n",
    "\n",
    "This notebook covers the following best practices for prompt engineering:\n",
    "\n",
    "- Be concise\n",
    "- Be specific and well-defined\n",
    "- Ask one task at a time\n",
    "- Turn generative tasks into classification tasks\n",
    "- Improve response quality by including examples"
   ]
  },
  {
   "cell_type": "markdown",
   "metadata": {
    "id": "61RBz8LLbxCR"
   },
   "source": [
    "## Getting Started"
   ]
  },
  {
   "cell_type": "markdown",
   "metadata": {
    "id": "No17Cw5hgx12"
   },
   "source": [
    "### Install Google Gen AI SDK\n"
   ]
  },
  {
   "cell_type": "code",
   "execution_count": 2,
   "metadata": {
    "id": "tFy3H3aPgx12",
    "tags": []
   },
   "outputs": [
    {
     "name": "stdout",
     "output_type": "stream",
     "text": [
      "Note: you may need to restart the kernel to use updated packages.\n"
     ]
    }
   ],
   "source": [
    "%pip install --upgrade --quiet google-genai"
   ]
  },
  {
   "cell_type": "markdown",
   "metadata": {
    "id": "R5Xep4W9lq-Z"
   },
   "source": [
    "### Restart runtime\n",
    "\n",
    "To use the newly installed packages in this Jupyter runtime, you must restart the runtime. You can do this by running the cell below, which will restart the current kernel."
   ]
  },
  {
   "cell_type": "code",
   "execution_count": 3,
   "metadata": {
    "id": "XRvKdaPDTznN",
    "tags": []
   },
   "outputs": [
    {
     "data": {
      "text/plain": [
       "{'status': 'ok', 'restart': True}"
      ]
     },
     "execution_count": 3,
     "metadata": {},
     "output_type": "execute_result"
    }
   ],
   "source": [
    "import IPython\n",
    "\n",
    "app = IPython.Application.instance()\n",
    "app.kernel.do_shutdown(True)"
   ]
  },
  {
   "cell_type": "markdown",
   "metadata": {
    "id": "SbmM4z7FOBpM"
   },
   "source": [
    "<div class=\"alert alert-block alert-warning\">\n",
    "<b>⚠️ The kernel is going to restart. Please wait until it is finished before continuing to the next step. ⚠️</b>\n",
    "</div>\n"
   ]
  },
  {
   "cell_type": "markdown",
   "metadata": {
    "id": "dmWOrTJ3gx13"
   },
   "source": [
    "### Authenticate your notebook environment (Colab only)\n",
    "\n",
    "Authenticate your environment on Google Colab.\n"
   ]
  },
  {
   "cell_type": "code",
   "execution_count": 1,
   "metadata": {
    "id": "NyKGtVQjgx13",
    "tags": []
   },
   "outputs": [],
   "source": [
    "import sys\n",
    "\n",
    "if \"google.colab\" in sys.modules:\n",
    "    from google.colab import auth\n",
    "\n",
    "    auth.authenticate_user()"
   ]
  },
  {
   "cell_type": "markdown",
   "metadata": {
    "id": "06489bd14f16"
   },
   "source": [
    "### Import libraries\n"
   ]
  },
  {
   "cell_type": "code",
   "execution_count": 2,
   "metadata": {
    "id": "154137022fb6",
    "tags": []
   },
   "outputs": [],
   "source": [
    "from IPython.display import Markdown, display\n",
    "from google import genai\n",
    "from google.genai.types import GenerateContentConfig"
   ]
  },
  {
   "cell_type": "markdown",
   "metadata": {
    "id": "DF4l8DTdWgPY"
   },
   "source": [
    "### Set Google Cloud project information and create client\n",
    "\n",
    "To get started using Vertex AI, you must have an existing Google Cloud project and [enable the Vertex AI API](https://console.cloud.google.com/flows/enableapi?apiid=aiplatform.googleapis.com).\n",
    "\n",
    "Learn more about [setting up a project and a development environment](https://cloud.google.com/vertex-ai/docs/start/cloud-environment)."
   ]
  },
  {
   "cell_type": "code",
   "execution_count": 3,
   "metadata": {
    "id": "Nqwi-5ufWp_B",
    "tags": []
   },
   "outputs": [],
   "source": [
    "import os\n",
    "\n",
    "PROJECT_ID = \"[qwiklabs-gcp-04-77a05e700300]\"  # @param {type: \"string\", placeholder: \"[your-project-id]\", isTemplate: true}\n",
    "if not PROJECT_ID or PROJECT_ID == \"[qwiklabs-gcp-04-77a05e700300]\":\n",
    "    PROJECT_ID = str(os.environ.get(\"GOOGLE_CLOUD_PROJECT\"))\n",
    "\n",
    "LOCATION = os.environ.get(\"GOOGLE_CLOUD_REGION\", \"us-east1\")"
   ]
  },
  {
   "cell_type": "code",
   "execution_count": 4,
   "metadata": {
    "id": "QqRWdPGmW3NJ",
    "tags": []
   },
   "outputs": [],
   "source": [
    "client = genai.Client(vertexai=True, project=PROJECT_ID, location=LOCATION)"
   ]
  },
  {
   "cell_type": "markdown",
   "metadata": {
    "id": "OnFPpCRtXRl4"
   },
   "source": [
    "### Load model\n",
    "\n",
    "Learn more about all [Gemini models on Vertex AI](https://cloud.google.com/vertex-ai/generative-ai/docs/learn/models#gemini-models)."
   ]
  },
  {
   "cell_type": "code",
   "execution_count": 5,
   "metadata": {
    "id": "IQYu_9SvXQah",
    "tags": []
   },
   "outputs": [],
   "source": [
    "MODEL_ID = \"gemini-2.0-flash-001\"  # @param {type: \"string\"}"
   ]
  },
  {
   "cell_type": "markdown",
   "metadata": {
    "id": "cVOtUNJ5X0PY"
   },
   "source": [
    "## Prompt engineering best practices"
   ]
  },
  {
   "cell_type": "markdown",
   "metadata": {
    "id": "uv_e0fEPX60q"
   },
   "source": [
    "Prompt engineering is all about how to design your prompts so that the response is what you were indeed hoping to see.\n",
    "\n",
    "The idea of using \"unfancy\" prompts is to minimize the noise in your prompt to reduce the possibility of the LLM misinterpreting the intent of the prompt. Below are a few guidelines on how to engineer \"unfancy\" prompts.\n",
    "\n",
    "In this section, you'll cover the following best practices when engineering prompts:\n",
    "\n",
    "* Be concise\n",
    "* Be specific, and well-defined\n",
    "* Ask one task at a time\n",
    "* Improve response quality by including examples\n",
    "* Turn generative tasks to classification tasks to improve safety"
   ]
  },
  {
   "cell_type": "markdown",
   "metadata": {
    "id": "0pY4XX0OX9_Y"
   },
   "source": [
    "### Be concise"
   ]
  },
  {
   "cell_type": "markdown",
   "metadata": {
    "id": "xlRpxyxGYA1K"
   },
   "source": [
    "🛑 Not recommended. The prompt below is unnecessarily verbose."
   ]
  },
  {
   "cell_type": "code",
   "execution_count": null,
   "metadata": {
    "id": "YKV4G-CfXdbi"
   },
   "outputs": [],
   "source": [
    "prompt = \"What do you think could be a good name for a flower shop that specializes in selling bouquets of dried flowers more than fresh flowers?\"\n",
    "\n",
    "response = client.models.generate_content(model=MODEL_ID, contents=prompt)\n",
    "display(Markdown(response.text))"
   ]
  },
  {
   "cell_type": "markdown",
   "metadata": {
    "id": "YrJexRHJYnmC"
   },
   "source": [
    "✅ Recommended. The prompt below is to the point and concise."
   ]
  },
  {
   "cell_type": "code",
   "execution_count": 6,
   "metadata": {
    "id": "VHetn9lCYrXB",
    "tags": []
   },
   "outputs": [
    {
     "data": {
      "text/markdown": [
       "Okay, here are some name suggestions for a dried flower shop, playing on different angles:\n",
       "\n",
       "**Elegant & Classic:**\n",
       "\n",
       "*   The Everlasting Bloom\n",
       "*   Preserved Petals\n",
       "*   The Dried Bouquet\n",
       "*   Eternal Blooms\n",
       "*   Golden Flora\n",
       "*   Timeless Blossoms\n",
       "*   The Still Life Florist\n",
       "\n",
       "**Modern & Chic:**\n",
       "\n",
       "*   Dry Goods Floral\n",
       "*   The Pressed Flower Co.\n",
       "*   Anthology of Everlasting\n",
       "*   Dried & Dusted\n",
       "*   Petrified Petals\n",
       "*   The Dry Spell\n",
       "*   The Withered Rose (A bit edgy)\n",
       "\n",
       "**Whimsical & Playful:**\n",
       "\n",
       "*   The Dried Flower Fairy\n",
       "*   The Dusty Daisy\n",
       "*   Forever Flowers\n",
       "*   Bloom & Last\n",
       "*   The Dried Flower Den\n",
       "*   Second Bloom\n",
       "\n",
       "**Nature-Focused:**\n",
       "\n",
       "*   Fields of Forever\n",
       "*   Harvest Blooms\n",
       "*   Prairie Petals\n",
       "*   Sunbaked Florals\n",
       "*   Earthen Flora\n",
       "\n",
       "**Location Specific (Adapt to your area):**\n",
       "\n",
       "*   (Your Town/Region) Dry Blooms\n",
       "*   (Your Town/Region) Everlasting\n",
       "\n",
       "**Tips for Choosing:**\n",
       "\n",
       "*   **Availability:** Check if the name is available as a website domain and on social media.\n",
       "*   **Target Audience:**  Consider who you are trying to attract. A younger audience might like a more modern name.\n",
       "*   **Memorability:**  Is it easy to remember and pronounce?\n",
       "*   **Uniqueness:** Does it stand out from other flower shops in your area?\n",
       "*   **Brand Personality:**  Does it reflect the style and aesthetic of your shop?\n",
       "*   **Say it out loud:** How does it sound?\n",
       "\n",
       "I hope this gives you a good starting point! Good luck!\n"
      ],
      "text/plain": [
       "<IPython.core.display.Markdown object>"
      ]
     },
     "metadata": {},
     "output_type": "display_data"
    }
   ],
   "source": [
    "prompt = \"Suggest a name for a flower shop that sells bouquets of dried flowers\"\n",
    "\n",
    "response = client.models.generate_content(model=MODEL_ID, contents=prompt)\n",
    "display(Markdown(response.text))"
   ]
  },
  {
   "cell_type": "markdown",
   "metadata": {
    "id": "eXTAvdOHY0OC"
   },
   "source": [
    "### Be specific, and well-defined"
   ]
  },
  {
   "cell_type": "markdown",
   "metadata": {
    "id": "FTH4GEIgY1dp"
   },
   "source": [
    "Suppose that you want to brainstorm creative ways to describe Earth."
   ]
  },
  {
   "cell_type": "markdown",
   "metadata": {
    "id": "o5BmXBiGY4KC"
   },
   "source": [
    "🛑 The prompt below might be a bit too generic (which is certainly OK if you'd like to ask a generic question!)"
   ]
  },
  {
   "cell_type": "code",
   "execution_count": 7,
   "metadata": {
    "id": "eHBaMvv7Y6mR",
    "tags": []
   },
   "outputs": [
    {
     "data": {
      "text/markdown": [
       "Okay, let's delve into the fascinating world of Earth! Here's a comprehensive overview of our home planet:\n",
       "\n",
       "**Basic Facts:**\n",
       "\n",
       "*   **Name:** Earth (The name comes from the Old English words \"eorþe\" and \"ertha,\" meaning ground or soil.)\n",
       "*   **Planet Type:** Terrestrial (rocky)\n",
       "*   **Position in Solar System:** Third planet from the Sun\n",
       "*   **Diameter:** Approximately 12,742 kilometers (7,918 miles)\n",
       "*   **Circumference:** Approximately 40,075 kilometers (24,901 miles) at the equator\n",
       "*   **Mass:** Approximately 5.97 x 10^24 kg\n",
       "*   **Density:** Highest of all planets in the Solar System.\n",
       "*   **Orbit around Sun:** Takes approximately 365.25 days (one year)\n",
       "*   **Rotation on Axis:** Takes approximately 24 hours (one day)\n",
       "*   **Tilt of Axis:** 23.5 degrees (responsible for seasons)\n",
       "*   **Atmosphere:** Primarily nitrogen (78%) and oxygen (21%), with trace amounts of other gases like argon, carbon dioxide, and water vapor.\n",
       "*   **Magnetic Field:** Present, protecting Earth from harmful solar radiation.\n",
       "*   **Moons:** One natural satellite: The Moon\n",
       "*   **Rings:** None\n",
       "*   **Habitability:** Currently the only known planet to support life.\n",
       "\n",
       "**Internal Structure:**\n",
       "\n",
       "Earth has a layered structure:\n",
       "\n",
       "*   **Inner Core:** A solid sphere of iron and nickel, extremely hot (around 5,200°C or 9,392°F) and under immense pressure.\n",
       "*   **Outer Core:** A liquid layer of iron and nickel surrounding the inner core. The movement of this liquid generates Earth's magnetic field.\n",
       "*   **Mantle:** A thick layer of mostly solid rock (silicates) that makes up about 84% of Earth's volume. The upper part of the mantle is partially molten.\n",
       "*   **Crust:** The outermost layer, a relatively thin and brittle layer of rock. There are two types of crust:\n",
       "    *   **Oceanic crust:** Thinner (5-10 km), denser, and composed mainly of basalt.\n",
       "    *   **Continental crust:** Thicker (30-70 km), less dense, and composed mainly of granite.\n",
       "\n",
       "**Surface Features:**\n",
       "\n",
       "*   **Continents:** Large landmasses (North America, South America, Europe, Asia, Africa, Australia, Antarctica).\n",
       "*   **Oceans:** Vast bodies of saltwater covering about 71% of Earth's surface (Pacific, Atlantic, Indian, Arctic, Southern).\n",
       "*   **Mountains:** Elevated landforms created by tectonic forces.\n",
       "*   **Valleys:** Depressions in the Earth's surface, often formed by rivers or glaciers.\n",
       "*   **Deserts:** Arid regions with little precipitation.\n",
       "*   **Polar Ice Caps:** Regions of permanent ice cover at the North and South Poles.\n",
       "*   **Rivers and Lakes:** Bodies of fresh water.\n",
       "\n",
       "**Plate Tectonics:**\n",
       "\n",
       "Earth's lithosphere (crust and upper mantle) is broken into large plates that float on the semi-molten asthenosphere below. These plates move and interact, causing:\n",
       "\n",
       "*   **Earthquakes:** Sudden releases of energy when plates slip past each other.\n",
       "*   **Volcanoes:** Eruptions of molten rock (magma) from the Earth's interior.\n",
       "*   **Mountain Building:** Occurs when plates collide and compress.\n",
       "*   **Sea Floor Spreading:** Creation of new oceanic crust at mid-ocean ridges where plates are moving apart.\n",
       "*   **Subduction:** The process where one plate slides beneath another.\n",
       "\n",
       "**Atmosphere:**\n",
       "\n",
       "The atmosphere is vital for life on Earth:\n",
       "\n",
       "*   **Protects from radiation:** Absorbs harmful UV radiation from the sun.\n",
       "*   **Moderates temperature:** The greenhouse effect (caused by gases like carbon dioxide and methane) traps heat and keeps the planet warm enough for liquid water to exist.\n",
       "*   **Provides air to breathe:** Oxygen is essential for most life forms.\n",
       "*   **Drives weather patterns:** Winds, precipitation, and other weather phenomena are driven by atmospheric processes.\n",
       "\n",
       "**Life:**\n",
       "\n",
       "*   Earth is the only known planet to harbor life.\n",
       "*   Life is incredibly diverse, ranging from microscopic bacteria to giant whales.\n",
       "*   Life has significantly altered Earth's environment over billions of years, including the composition of the atmosphere.\n",
       "\n",
       "**The Moon:**\n",
       "\n",
       "*   Earth's only natural satellite.\n",
       "*   Likely formed from a giant impact early in Earth's history.\n",
       "*   Causes tides on Earth.\n",
       "*   Stabilizes Earth's axial tilt, contributing to relatively stable seasons.\n",
       "\n",
       "**Unique Aspects:**\n",
       "\n",
       "*   **Liquid Water:** Abundant liquid water on the surface is crucial for life.\n",
       "*   **Plate Tectonics:** Plays a critical role in the carbon cycle and long-term climate regulation.\n",
       "*   **Strong Magnetic Field:** Protects the planet from harmful solar radiation.\n",
       "*   **Oxygen-Rich Atmosphere:** A result of photosynthetic life, essential for complex life.\n",
       "*   **Life itself.**\n",
       "\n",
       "**How Earth Formed:**\n",
       "\n",
       "Earth formed approximately 4.54 billion years ago from the solar nebula, the same cloud of dust and gas that formed the Sun and the rest of the solar system. Over time, gravity pulled this material together, and collisions between smaller bodies gradually built up the planet.\n",
       "\n",
       "**Interesting Facts:**\n",
       "\n",
       "*   Earth is not perfectly round; it's an oblate spheroid (bulges at the equator).\n",
       "*   The highest point on Earth is Mount Everest (8,848.86 meters above sea level).\n",
       "*   The deepest point on Earth is the Mariana Trench (approximately 11,034 meters below sea level).\n",
       "*   Earth's magnetic poles are constantly moving.\n",
       "*   We are currently experiencing the effects of human-caused climate change.\n",
       "\n",
       "**Ongoing Research:**\n",
       "\n",
       "Scientists are constantly studying Earth to better understand its history, processes, and future. This research is crucial for:\n",
       "\n",
       "*   Predicting and mitigating natural disasters.\n",
       "*   Understanding climate change and its impacts.\n",
       "*   Managing natural resources sustainably.\n",
       "*   Searching for life beyond Earth.\n",
       "\n",
       "I hope this overview provides a good understanding of our planet!  Is there anything specific about Earth you'd like to know more about?  For example, are you interested in its climate, geology, history, or something else?\n"
      ],
      "text/plain": [
       "<IPython.core.display.Markdown object>"
      ]
     },
     "metadata": {},
     "output_type": "display_data"
    }
   ],
   "source": [
    "prompt = \"Tell me about Earth\"\n",
    "\n",
    "response = client.models.generate_content(model=MODEL_ID, contents=prompt)\n",
    "display(Markdown(response.text))"
   ]
  },
  {
   "cell_type": "markdown",
   "metadata": {
    "id": "4iyvEbteZnFL"
   },
   "source": [
    "✅ Recommended. The prompt below is specific and well-defined."
   ]
  },
  {
   "cell_type": "code",
   "execution_count": 8,
   "metadata": {
    "id": "JQ80z8urZnne",
    "tags": []
   },
   "outputs": [
    {
     "data": {
      "text/markdown": [
       "Okay, here's a list of ways Earth is unique compared to other planets we currently know of:\n",
       "\n",
       "**Fundamental Requirements for Life as We Know It:**\n",
       "\n",
       "*   **Liquid Water on the Surface:**  This is a big one.  Earth's temperature and atmospheric pressure allow water to exist in all three phases (solid, liquid, gas) on its surface. Liquid water is considered essential for life as we know it, acting as a solvent and facilitating biochemical reactions.\n",
       "*   **Atmosphere with Oxygen:** Earth's atmosphere is rich in oxygen (around 21%).  This is primarily due to photosynthesis by plants and algae. Oxygen is crucial for respiration, the process by which complex life forms obtain energy.  Most other planetary atmospheres are dominated by carbon dioxide, nitrogen, or hydrogen/helium.\n",
       "*   **Habitable Temperature Range:**  Earth's distance from the Sun and its atmosphere create a temperature range that is conducive to liquid water and complex biochemistry. It's neither too hot (like Venus) nor too cold (like Mars, for the most part).\n",
       "\n",
       "**Geological Activity & Composition:**\n",
       "\n",
       "*   **Plate Tectonics:**  Earth has a dynamic surface driven by plate tectonics.  This process recycles the crust, regulates temperature, and creates diverse landscapes.  We don't see this active plate tectonics on any other planet in our solar system (though some evidence suggests it might have existed on Mars in the past).\n",
       "*   **Active Volcanoes:** Volcanoes on Earth release gases from the interior, contributing to the atmosphere and playing a role in the carbon cycle. While other planets have volcanoes (e.g., Mars' Olympus Mons), Earth's are still actively shaping the planet.\n",
       "*   **Strong Magnetic Field:**  Earth's magnetic field, generated by the movement of molten iron in its core, deflects harmful solar wind and cosmic radiation, protecting the atmosphere and surface life.\n",
       "\n",
       "**Life and Biology:**\n",
       "\n",
       "*   **Abundance of Life:**  This is the most obvious one. Earth is the only planet we know of that harbors life, and life in incredible abundance and diversity.\n",
       "*   **Complex Ecosystems:** Earth has intricate ecosystems with interconnected food webs and complex interactions between species.\n",
       "*   **Photosynthesis:** The prevalence of photosynthesis (using sunlight to convert carbon dioxide and water into energy and oxygen) has fundamentally shaped Earth's atmosphere and life forms.\n",
       "*   **Intelligent Life:** Earth is currently the only known planet with intelligent, technological life capable of self-reflection and exploration.\n",
       "\n",
       "**Other Factors:**\n",
       "\n",
       "*   **Size and Mass:** Earth's size and mass are \"just right\" for retaining a substantial atmosphere without being a gas giant.\n",
       "*   **Distance from the Sun:** Earth resides in the \"Goldilocks zone\" of our solar system, where temperatures are suitable for liquid water.\n",
       "*   **Presence of a Large Moon:**  The Moon stabilizes Earth's axial tilt, which helps to moderate the seasons and creates tidal cycles that may have been important for the origin of life.\n",
       "*   **Axial Tilt and Seasons:** Earth's axial tilt (approximately 23.5 degrees) causes the seasons, creating variations in temperature and daylight hours that influence life cycles.\n",
       "*   **Ozone Layer:** The ozone layer in Earth's stratosphere absorbs most of the Sun's harmful ultraviolet (UV) radiation, protecting life on the surface.\n",
       "\n",
       "**Important Considerations:**\n",
       "\n",
       "*   **Limited Sample Size:** Our understanding of exoplanets (planets outside our solar system) is still evolving. We are constantly discovering new planets with potentially unique characteristics, and our definition of \"unique\" may change as we learn more.\n",
       "*   **Life as We Know It:** The list above focuses on conditions that support life as we currently understand it.  It's possible that life could exist in forms that are fundamentally different and require very different conditions.\n",
       "*   **Dynamic Planet:** Earth is constantly changing. Its uniqueness is not a static condition but rather a result of ongoing processes and interactions.\n",
       "\n",
       "This list gives a comprehensive overview of the factors that make Earth stand out among the planets we know. Remember that as our exploration of the universe continues, our understanding of planetary diversity will undoubtedly expand.\n"
      ],
      "text/plain": [
       "<IPython.core.display.Markdown object>"
      ]
     },
     "metadata": {},
     "output_type": "display_data"
    }
   ],
   "source": [
    "prompt = \"Generate a list of ways that makes Earth unique compared to other planets\"\n",
    "\n",
    "response = client.models.generate_content(model=MODEL_ID, contents=prompt)\n",
    "display(Markdown(response.text))"
   ]
  },
  {
   "cell_type": "markdown",
   "metadata": {
    "id": "R5kmfZYHZsJ7"
   },
   "source": [
    "### Ask one task at a time"
   ]
  },
  {
   "cell_type": "markdown",
   "metadata": {
    "id": "rsAezxeYZuUN"
   },
   "source": [
    "🛑 Not recommended. The prompt below has two parts to the question that could be asked separately."
   ]
  },
  {
   "cell_type": "code",
   "execution_count": 9,
   "metadata": {
    "id": "ElywPXpuZtWf",
    "tags": []
   },
   "outputs": [
    {
     "data": {
      "text/markdown": [
       "Let's answer both of these questions:\n",
       "\n",
       "**Best Method of Boiling Water**\n",
       "\n",
       "There isn't one single \"best\" method, as it depends on your priorities and available resources. Here's a breakdown:\n",
       "\n",
       "*   **Electric Kettle:**\n",
       "    *   **Pros:** Fastest, most energy-efficient for small amounts of water, convenient (automatic shut-off), often have temperature control options.\n",
       "    *   **Cons:** Requires electricity, can be expensive.\n",
       "    *   **Best For:** Everyday use, quick cups of tea/coffee, precise temperature requirements.\n",
       "*   **Stovetop Kettle:**\n",
       "    *   **Pros:** Relatively fast, uses a heat source you likely already have, whistling kettles provide an audible alert.\n",
       "    *   **Cons:** Requires supervision (to prevent boiling dry), can be less energy-efficient than electric kettles.\n",
       "    *   **Best For:** When electricity is limited or unavailable, traditional kettle preference.\n",
       "*   **Microwave:**\n",
       "    *   **Pros:** Quick for small amounts of water.\n",
       "    *   **Cons:** Can be uneven heating (potential for superheating, which is dangerous), not energy-efficient, can impart a plastic taste if using a plastic container.\n",
       "    *   **Best For:** Only in a pinch, very small amounts, be cautious.\n",
       "*   **Pot on Stovetop:**\n",
       "    *   **Pros:** Simple, uses a heat source you likely already have, can boil large quantities.\n",
       "    *   **Cons:** Can be slow, especially for small amounts, requires close supervision (to prevent boiling dry).\n",
       "    *   **Best For:** Boiling large quantities of water (e.g., for pasta), situations where you don't have a kettle.\n",
       "*   **Immersion Heater:**\n",
       "    *   **Pros:** Portable, useful when a heat source is not available.\n",
       "    *   **Cons:** Requires a container, potential dangers if not used carefully, slow.\n",
       "    *   **Best For:** Camping or situations where a heat source is unavailable.\n",
       "\n",
       "**In summary, for speed, efficiency, and convenience, an electric kettle is generally the best option for everyday use. However, the best method depends on your circumstances.**\n",
       "\n",
       "**Why is the Sky Blue?**\n",
       "\n",
       "The sky is blue because of a phenomenon called **Rayleigh scattering**. Here's the simplified explanation:\n",
       "\n",
       "1.  **Sunlight Enters the Atmosphere:** Sunlight is actually made up of all the colors of the rainbow.\n",
       "\n",
       "2.  **Scattering by Air Molecules:** As sunlight enters the Earth's atmosphere, it collides with tiny air molecules (mostly nitrogen and oxygen). This collision causes the light to scatter in different directions.\n",
       "\n",
       "3.  **Rayleigh Scattering Favors Blue:** Rayleigh scattering is more effective at scattering shorter wavelengths of light. Blue and violet light have shorter wavelengths than other colors like red, orange, and yellow.\n",
       "\n",
       "4.  **Why Not Violet Then?** While violet light is scattered even more than blue, there are a few reasons why we see the sky as blue:\n",
       "\n",
       "    *   The sun emits less violet light than blue light.\n",
       "    *   Our eyes are more sensitive to blue light than violet light.\n",
       "    *   Some of the violet light is absorbed by the upper atmosphere.\n",
       "\n",
       "5.  **What About Sunset/Sunrise?** At sunrise and sunset, the sun's light has to travel through much more of the atmosphere to reach our eyes. This means that most of the blue light has been scattered away by the time it reaches us. The longer wavelengths, like red and orange, are able to penetrate through the atmosphere more easily, resulting in the reddish hues we see.\n",
       "\n",
       "**In short, the sky is blue because air molecules scatter blue light from the sun more than they scatter other colors.**\n"
      ],
      "text/plain": [
       "<IPython.core.display.Markdown object>"
      ]
     },
     "metadata": {},
     "output_type": "display_data"
    }
   ],
   "source": [
    "prompt = \"What's the best method of boiling water and why is the sky blue?\"\n",
    "\n",
    "response = client.models.generate_content(model=MODEL_ID, contents=prompt)\n",
    "display(Markdown(response.text))"
   ]
  },
  {
   "cell_type": "markdown",
   "metadata": {
    "id": "ejzahazBZ8vk"
   },
   "source": [
    "✅ Recommended. The prompts below asks one task a time."
   ]
  },
  {
   "cell_type": "code",
   "execution_count": 11,
   "metadata": {
    "id": "C5ckp2F0Z_Ba",
    "tags": []
   },
   "outputs": [
    {
     "data": {
      "text/markdown": [
       "The \"best\" method of boiling water really depends on your priorities and available resources. Here's a breakdown of common methods, their pros and cons, and when each might be preferable:\n",
       "\n",
       "**1. Electric Kettle:**\n",
       "\n",
       "*   **Pros:**\n",
       "    *   **Speed:** Generally the fastest method for smaller quantities (up to a liter or two).\n",
       "    *   **Convenience:** Easy to use, often with automatic shut-off for safety.\n",
       "    *   **Energy Efficiency:** Can be more energy-efficient than stovetop, especially if you only boil the water you need.\n",
       "    *   **Cleanliness:** Simple to keep clean.\n",
       "*   **Cons:**\n",
       "    *   **Limited Capacity:** Typically not suitable for large quantities.\n",
       "    *   **Requires Electricity:** Useless without power.\n",
       "    *   **Materials:** Some older models or very cheap ones may have plastic components in contact with the water, which some people avoid due to potential leaching of chemicals. Look for kettles with stainless steel or glass interiors.\n",
       "*   **Best For:** Daily use, small to medium amounts of water, when speed and convenience are paramount.\n",
       "\n",
       "**2. Stovetop (Pot on Burner):**\n",
       "\n",
       "*   **Pros:**\n",
       "    *   **Versatility:** Can boil large quantities of water.\n",
       "    *   **Pot Material Choices:** You have control over the pot material (stainless steel, enamel, etc.).\n",
       "    *   **No Electricity Required (Gas Stove):** Usable even in a power outage if you have a gas stove.\n",
       "*   **Cons:**\n",
       "    *   **Slower:** Generally slower than an electric kettle, especially for smaller amounts.\n",
       "    *   **Less Energy Efficient:** Can waste energy heating a larger area.\n",
       "    *   **Requires Monitoring:** Needs attention to prevent boiling over.\n",
       "    *   **Uneven Heating (Electric):** Electric stovetops can have uneven heating, leading to hot spots.\n",
       "*   **Best For:** Large quantities of water (e.g., for pasta), when you need to control the heating process, or when electricity is unavailable (if you have a gas stove).\n",
       "\n",
       "**3. Microwave:**\n",
       "\n",
       "*   **Pros:**\n",
       "    *   **Speed:** Can be fast for small amounts of water.\n",
       "    *   **Convenience:** Simple to use.\n",
       "*   **Cons:**\n",
       "    *   **Safety Concerns:** Can be dangerous due to superheating (water getting hotter than its boiling point without bubbling, then violently erupting when disturbed).  *Always* use a microwave-safe container and place a non-metallic object like a wooden chopstick or spoon in the water to prevent superheating.\n",
       "    *   **Uneven Heating:** Microwaves often heat unevenly.\n",
       "    *   **Not Ideal for Tea:**  Microwaving water is generally discouraged for making tea, as it can affect the taste due to uneven heating and lack of oxygenation.\n",
       "*   **Best For:** Small amounts of water in a pinch, but generally not recommended due to safety concerns regarding superheating.  If you *must* use a microwave, proceed with extreme caution and follow the guidelines to prevent superheating.\n",
       "\n",
       "**4. Campfire/Outdoor Stove:**\n",
       "\n",
       "*   **Pros:**\n",
       "    *   **Off-Grid Solution:** Useful for camping, hiking, or emergency situations where electricity and gas are unavailable.\n",
       "    *   **Experience:** Can be enjoyable (campfire).\n",
       "*   **Cons:**\n",
       "    *   **Time Consuming:** Can take a long time, especially with a campfire.\n",
       "    *   **Weather Dependent:** Can be difficult in windy or rainy conditions.\n",
       "    *   **Safety Considerations:** Requires careful handling of fire.\n",
       "    *   **Fuel Required:** Requires fuel (wood, gas canister, etc.).\n",
       "*   **Best For:** Outdoor adventures, emergency preparedness.\n",
       "\n",
       "**Summary Table:**\n",
       "\n",
       "| Method           | Speed     | Convenience | Energy Efficiency | Quantity | Safety   | Best For                                                                 |\n",
       "| ----------------- | -------- | ------------- | ----------------- | -------- | -------- | ------------------------------------------------------------------------ |\n",
       "| Electric Kettle  | Fastest  | Very High     | High              | Small/Med | High     | Daily use, small to medium amounts                                      |\n",
       "| Stovetop         | Medium   | Medium        | Medium            | Large    | Medium   | Large quantities, controlled heating, gas stove backup                    |\n",
       "| Microwave       | Fast     | High          | Low               | Small    | **LOW** | Small amounts in a *pinch* only, with extreme caution                 |\n",
       "| Campfire/Outdoor | Slowest  | Low           | Very Low         | Varies   | Low      | Camping, emergencies                                                      |\n",
       "\n",
       "**Therefore, to determine the \"best\" method, consider:**\n",
       "\n",
       "*   **Quantity of water:** A kettle is usually best for a cup or two, while the stovetop is better for larger volumes.\n",
       "*   **Availability of resources:** Electricity, gas, or outdoor fuel?\n",
       "*   **Speed:** How quickly do you need the water boiled?\n",
       "*   **Safety:** Microwave poses potential safety hazards.\n",
       "*   **Personal preference:** Some people prefer the experience of boiling water on the stove.\n",
       "\n",
       "**For most people, an electric kettle is the most practical and efficient choice for daily use.** However, having a backup method like a stovetop pot is wise. And avoid using a microwave if you can.\n"
      ],
      "text/plain": [
       "<IPython.core.display.Markdown object>"
      ]
     },
     "metadata": {},
     "output_type": "display_data"
    }
   ],
   "source": [
    "prompt = \"What's the best method of boiling water?\"\n",
    "\n",
    "response = client.models.generate_content(model=MODEL_ID, contents=prompt)\n",
    "display(Markdown(response.text))"
   ]
  },
  {
   "cell_type": "code",
   "execution_count": 13,
   "metadata": {
    "id": "KwUzhud4aA89",
    "tags": []
   },
   "outputs": [
    {
     "data": {
      "text/markdown": [
       "The sky is blue because of a phenomenon called **Rayleigh scattering**. Here's a breakdown of why:\n",
       "\n",
       "*   **Sunlight:** Sunlight is made up of all the colors of the rainbow.\n",
       "\n",
       "*   **Earth's Atmosphere:** The Earth's atmosphere is filled with tiny air molecules, mostly nitrogen and oxygen.\n",
       "\n",
       "*   **Scattering:** When sunlight enters the atmosphere, it collides with these air molecules. This collision causes the sunlight to scatter in different directions.\n",
       "\n",
       "*   **Rayleigh Scattering:** This type of scattering is more effective at shorter wavelengths (blue and violet) than longer wavelengths (red and orange). Essentially, the blue and violet light are bounced around more by the air molecules.\n",
       "\n",
       "*   **Why Blue, Not Violet?** While violet light is scattered even *more* than blue, the sun emits slightly less violet light, and our eyes are also less sensitive to violet. So, we perceive the scattered light as blue.\n",
       "\n",
       "*   **Sunrise and Sunset:** At sunrise and sunset, the sunlight has to travel through a much greater distance of atmosphere to reach our eyes. This means that most of the blue light has been scattered away before it gets to us. That's why we see more of the longer wavelengths, like red and orange, at those times.\n",
       "\n",
       "**In simpler terms:**\n",
       "\n",
       "Imagine throwing different sized balls (colors of light) at a bunch of small obstacles (air molecules). The smaller balls (blue light) bounce around much more than the larger balls (red light). That's why we see the sky as blue.\n"
      ],
      "text/plain": [
       "<IPython.core.display.Markdown object>"
      ]
     },
     "metadata": {},
     "output_type": "display_data"
    }
   ],
   "source": [
    "prompt = \"Why is the sky blue?\"\n",
    "\n",
    "response = client.models.generate_content(model=MODEL_ID, contents=prompt)\n",
    "display(Markdown(response.text))"
   ]
  },
  {
   "cell_type": "markdown",
   "metadata": {
    "id": "PJIL2RTQaGcT"
   },
   "source": [
    "### Watch out for hallucinations"
   ]
  },
  {
   "cell_type": "markdown",
   "metadata": {
    "id": "8Y8kYxrSaHE9"
   },
   "source": [
    "Although LLMs have been trained on a large amount of data, they can generate text containing statements not grounded in truth or reality; these responses from the LLM are often referred to as \"hallucinations\" due to their limited memorization capabilities. Note that simply prompting the LLM to provide a citation isn't a fix to this problem, as there are instances of LLMs providing false or inaccurate citations. Dealing with hallucinations is a fundamental challenge of LLMs and an ongoing research area, so it is important to be cognizant that LLMs may seem to give you confident, correct-sounding statements that are in fact incorrect.\n",
    "\n",
    "Note that if you intend to use LLMs for the creative use cases, hallucinating could actually be quite useful."
   ]
  },
  {
   "cell_type": "markdown",
   "metadata": {
    "id": "8NY5nAGeaJYS"
   },
   "source": [
    "Try the prompt like the one below repeatedly. We set the temperature to `1.0` so that it takes more risks in its choices. It's possible that it may provide an inaccurate, but confident answer."
   ]
  },
  {
   "cell_type": "code",
   "execution_count": 14,
   "metadata": {
    "id": "QALPjEILaM62",
    "tags": []
   },
   "outputs": [
    {
     "data": {
      "text/markdown": [
       "I am a large language model, and I don't have access to real-time information. Therefore, I cannot tell you what day it is today.\n"
      ],
      "text/plain": [
       "<IPython.core.display.Markdown object>"
      ]
     },
     "metadata": {},
     "output_type": "display_data"
    }
   ],
   "source": [
    "generation_config = GenerateContentConfig(temperature=1.0)\n",
    "\n",
    "prompt = \"What day is it today?\"\n",
    "\n",
    "response = client.models.generate_content(model=MODEL_ID, contents=prompt)\n",
    "display(Markdown(response.text))"
   ]
  },
  {
   "cell_type": "markdown",
   "metadata": {
    "id": "BRkwzbgRbhKt"
   },
   "source": [
    "Since LLMs do not have access to real-time information without further integrations, you may have noticed it hallucinates what day it is today in some of the outputs."
   ]
  },
  {
   "cell_type": "markdown",
   "metadata": {},
   "source": [
    "## Reduce Output Variability"
   ]
  },
  {
   "cell_type": "markdown",
   "metadata": {
    "id": "3c811e310d02"
   },
   "source": [
    "### Using system instructions to guardrail the model from irrelevant responses\n",
    "\n",
    "How can we attempt to reduce the chances of irrelevant responses and hallucinations?\n",
    "\n",
    "One way is to provide the LLM with [system instructions](https://cloud.google.com/vertex-ai/generative-ai/docs/multimodal/send-chat-prompts-gemini#system-instructions).\n",
    "\n",
    "Let's see how system instructions works and how you can use them to reduce hallucinations or irrelevant questions for a travel chatbot.\n",
    "\n",
    "Suppose we ask a simple question about one of Italy's most famous tourist spots."
   ]
  },
  {
   "cell_type": "code",
   "execution_count": 15,
   "metadata": {
    "id": "rB6zJU76biFK",
    "tags": []
   },
   "outputs": [
    {
     "data": {
      "text/markdown": [
       "The Duomo di Milano is a must-see. It is one of the world's largest cathedrals.\n"
      ],
      "text/plain": [
       "<IPython.core.display.Markdown object>"
      ]
     },
     "metadata": {},
     "output_type": "display_data"
    }
   ],
   "source": [
    "generation_config = GenerateContentConfig(temperature=1.0)\n",
    "\n",
    "chat = client.chats.create(\n",
    "    model=MODEL_ID,\n",
    "    config=GenerateContentConfig(\n",
    "        system_instruction=[\n",
    "            \"Hello! You are an AI chatbot for a travel web site.\",\n",
    "            \"Your mission is to provide helpful queries for travelers.\",\n",
    "            \"Remember that before you answer a question, you must check to see if it complies with your mission.\",\n",
    "            \"If not, you can say, Sorry I can't answer that question.\",\n",
    "        ]\n",
    "    ),\n",
    ")\n",
    "\n",
    "prompt = \"What is the best place for sightseeing in Milan, Italy?\"\n",
    "\n",
    "response = chat.send_message(prompt)\n",
    "display(Markdown(response.text))"
   ]
  },
  {
   "cell_type": "markdown",
   "metadata": {
    "id": "WZa-Qcf9cF4A"
   },
   "source": [
    "Now let us pretend to be a user asks the chatbot a question that is unrelated to travel."
   ]
  },
  {
   "cell_type": "code",
   "execution_count": 16,
   "metadata": {
    "id": "AZKBIDr2cGnu",
    "tags": []
   },
   "outputs": [
    {
     "data": {
      "text/markdown": [
       "The Galleria Vittorio Emanuele II is a beautiful shopping arcade, and the Teatro alla Scala is a world-renowned opera house.\n"
      ],
      "text/plain": [
       "<IPython.core.display.Markdown object>"
      ]
     },
     "metadata": {},
     "output_type": "display_data"
    }
   ],
   "source": [
    "prompt = \"What is the best place for sightseeing in Milan, Italy?\"\n",
    "\n",
    "response = chat.send_message(prompt)\n",
    "display(Markdown(response.text))"
   ]
  },
  {
   "cell_type": "markdown",
   "metadata": {
    "id": "JiUYIhwpctCy"
   },
   "source": [
    "You can see that this way, a guardrail in the prompt prevented the chatbot from veering off course."
   ]
  },
  {
   "cell_type": "markdown",
   "metadata": {
    "id": "ZuuDhA37cvmP"
   },
   "source": [
    "### Turn generative tasks into classification tasks to reduce output variability"
   ]
  },
  {
   "cell_type": "markdown",
   "metadata": {
    "id": "kUCUrsUzczmb"
   },
   "source": [
    "#### Generative tasks lead to higher output variability"
   ]
  },
  {
   "cell_type": "markdown",
   "metadata": {
    "id": "a1xASHAkc46n"
   },
   "source": [
    "The prompt below results in an open-ended response, useful for brainstorming, but response is highly variable."
   ]
  },
  {
   "cell_type": "code",
   "execution_count": 17,
   "metadata": {
    "id": "nPfXQWIacwRf",
    "tags": []
   },
   "outputs": [
    {
     "data": {
      "text/markdown": [
       "Okay, based on you being a high school student, here are a few programming activity recommendations with varying levels of challenge and areas of focus.  I'll try to tailor them assuming you're likely comfortable with the basics of at least one language (like Python, Java, JavaScript, C++, etc.).\n",
       "\n",
       "**Beginner-Friendly (Reinforces Fundamentals and Logic):**\n",
       "\n",
       "*   **1. Simple Calculator:**\n",
       "    *   **Goal:** Build a basic calculator that can perform addition, subtraction, multiplication, and division.\n",
       "    *   **Languages:** Python, JavaScript, Java, C++ (any language you're comfortable with)\n",
       "    *   **Why it's good:**  Forces you to handle user input, perform basic arithmetic operations, and handle potential errors (e.g., division by zero).  You'll learn about conditional statements (if/else), loops (for handling multiple calculations), and data types.\n",
       "    *   **Enhancements:** Add more functions (square root, exponents, etc.), implement a GUI (Graphical User Interface) for a more interactive experience, or store the history of calculations.\n",
       "\n",
       "*   **2. Number Guessing Game:**\n",
       "    *   **Goal:** The computer generates a random number, and the user tries to guess it. The program provides feedback (higher/lower) until the user guesses correctly.\n",
       "    *   **Languages:** Python, JavaScript, Java, C++\n",
       "    *   **Why it's good:**  Introduces random number generation, conditional logic, and loop control.  It's a fun way to practice `while` loops.\n",
       "    *   **Enhancements:** Limit the number of guesses, keep track of the user's score, implement difficulty levels (e.g., smaller/larger ranges for the random number).\n",
       "\n",
       "**Intermediate (Introduces New Concepts and Problem-Solving):**\n",
       "\n",
       "*   **3. To-Do List Application:**\n",
       "    *   **Goal:** Create a program that allows users to add, view, delete, and mark tasks as complete in a list.\n",
       "    *   **Languages:** Python, JavaScript, Java, C++\n",
       "    *   **Why it's good:**  Introduces data structures (lists, arrays, or more advanced structures like linked lists or dictionaries), user input processing, and basic file I/O (to save the list to a file).\n",
       "    *   **Enhancements:** Implement features like priority levels for tasks, due dates, reminders, or a GUI.  Consider using object-oriented programming principles (if applicable) to represent tasks as objects.\n",
       "\n",
       "*   **4. Text-Based Adventure Game (Choose Your Own Adventure):**\n",
       "    *   **Goal:** Create a simple text-based game where the player makes choices that affect the story's outcome.\n",
       "    *   **Languages:** Python, JavaScript, Java\n",
       "    *   **Why it's good:**  Requires you to structure a program with multiple possible paths, use conditional statements extensively, and manage game state.  It's great for practicing branching logic and planning a larger program.\n",
       "    *   **Enhancements:** Add more complex puzzles, inventory management, combat systems, or multiple endings. You can create a story with multiple characters to interact with.\n",
       "\n",
       "*   **5. Basic Web Scraper:**\n",
       "    *   **Goal:** Write a program that retrieves data from a website (e.g., current weather information, stock prices).\n",
       "    *   **Languages:** Python (with libraries like `requests` and `Beautiful Soup`), JavaScript (with `fetch` API or libraries like `axios`), Java (with libraries like `jsoup`)\n",
       "    *   **Why it's good:**  Introduces the concept of web APIs, HTML parsing, and data extraction.  You'll learn how to interact with external resources.\n",
       "    *   **Enhancements:**  Scrape data from multiple websites, store the data in a database (e.g., SQLite), or create a simple web application to display the scraped data.  Be sure to respect the website's terms of service and robots.txt file.\n",
       "\n",
       "**Advanced (More Complex, Real-World Applications):**\n",
       "\n",
       "*   **6. Simple Chat Application:**\n",
       "    *   **Goal:** Create a basic chat application where two or more users can send and receive messages.\n",
       "    *   **Languages:** Python (with libraries like `socket` and `threading`), Java (with `Socket` and `Thread` classes), JavaScript (using WebSockets or a library like Socket.IO).\n",
       "    *   **Why it's good:**  Introduces networking concepts, client-server architecture, and multi-threading (or asynchronous programming).\n",
       "    *   **Enhancements:** Add features like user authentication, private messaging, group chat, file sharing, or a graphical user interface.\n",
       "\n",
       "*   **7.  Game Development with a Library/Framework (e.g., Pygame, Unity, Godot):**\n",
       "    *   **Goal:** Create a simple game (e.g., Pong, Breakout, a platformer) using a game development library or engine.\n",
       "    *   **Languages:** Python (with Pygame), C# (with Unity), GDScript (with Godot)\n",
       "    *   **Why it's good:**  Introduces game development concepts like game loops, collision detection, sprite animation, and user input handling.  You'll learn how to use a powerful library or engine to build more complex games.\n",
       "    *   **Enhancements:**  Add more levels, enemies, power-ups, or a more polished user interface.\n",
       "\n",
       "*   **8.  Machine Learning Project (e.g., Image Classifier, Text Sentiment Analysis):**\n",
       "    *   **Goal:** Build a simple machine learning model that can classify images or analyze the sentiment of text.\n",
       "    *   **Languages:** Python (with libraries like scikit-learn, TensorFlow, or PyTorch)\n",
       "    *   **Why it's good:**  Introduces the fundamentals of machine learning, data preprocessing, model training, and evaluation.  You'll learn how to use powerful machine learning libraries to solve real-world problems.\n",
       "    *   **Enhancements:**  Improve the model's accuracy, experiment with different algorithms, or deploy the model as a web service.\n",
       "\n",
       "**How to Choose the Right Activity:**\n",
       "\n",
       "1.  **Your Current Skill Level:**  Be realistic about what you can accomplish.  Start with a beginner-friendly project if you're still learning the basics.\n",
       "2.  **Your Interests:** Choose a project that excites you!  You'll be more motivated to work on something you're genuinely interested in.  Are you into games, web development, data analysis, or something else?\n",
       "3.  **Learning Goals:**  What do you want to learn?  Do you want to improve your object-oriented programming skills, learn about networking, or explore machine learning?\n",
       "4.  **Time Commitment:**  How much time do you have to dedicate to the project?  Choose a project that you can realistically complete within your available time.\n",
       "\n",
       "**Tips for Success:**\n",
       "\n",
       "*   **Break down the project into smaller, manageable tasks.**  This will make the project less daunting and easier to track your progress.\n",
       "*   **Use online resources:**  There are tons of tutorials, documentation, and examples available online.  Don't be afraid to search for help when you get stuck.\n",
       "*   **Practice good coding habits:**  Write clean, well-documented code.  Use version control (e.g., Git) to track your changes.\n",
       "*   **Test your code frequently:**  Test your code as you write it to catch errors early.\n",
       "*   **Don't give up!**  Programming can be challenging, but it's also very rewarding.  If you get stuck, take a break, ask for help, and keep trying.\n",
       "\n",
       "Good luck, and have fun! Let me know if you have any other questions.  I can help you refine your project idea further, suggest specific resources, or provide guidance along the way.\n"
      ],
      "text/plain": [
       "<IPython.core.display.Markdown object>"
      ]
     },
     "metadata": {},
     "output_type": "display_data"
    }
   ],
   "source": [
    "prompt = \"I'm a high school student. Recommend me a programming activity to improve my skills.\"\n",
    "\n",
    "response = client.models.generate_content(model=MODEL_ID, contents=prompt)\n",
    "display(Markdown(response.text))"
   ]
  },
  {
   "cell_type": "markdown",
   "metadata": {
    "id": "iAmm9wPYc_1o"
   },
   "source": [
    "#### Classification tasks reduces output variability"
   ]
  },
  {
   "cell_type": "markdown",
   "metadata": {
    "id": "VvRpK_0GdCpf"
   },
   "source": [
    "The prompt below results in a choice and may be useful if you want the output to be easier to control."
   ]
  },
  {
   "cell_type": "code",
   "execution_count": 18,
   "metadata": {
    "id": "kYDKh0r2dAqo",
    "tags": []
   },
   "outputs": [
    {
     "data": {
      "text/markdown": [
       "Okay, for a high school student looking to learn a programming language, I strongly recommend **either Python (a) or JavaScript (b), with a slight edge towards Python for most students.** Here's a breakdown:\n",
       "\n",
       "**1. Python:**\n",
       "\n",
       "*   **Why it's great for beginners:**\n",
       "    *   **Readability:** Python has a very clear and easy-to-read syntax, often described as being \"like English.\"  This makes it easier to understand the logic and structure of your code, which is crucial when you're just starting out.\n",
       "    *   **Large and Supportive Community:** There's a HUGE online community of Python developers. This means tons of tutorials, libraries, and forums where you can get help when you're stuck.\n",
       "    *   **Versatility:** Python is used in a wide range of fields, including:\n",
       "        *   **Data Science:**  Analyzing data, creating visualizations (graphs and charts).\n",
       "        *   **Web Development:**  Building websites and web applications (although JavaScript is more front-end focused).\n",
       "        *   **Machine Learning/AI:**  Developing intelligent systems.\n",
       "        *   **Game Development:**  Using libraries like Pygame.\n",
       "        *   **Scripting/Automation:**  Automating tasks on your computer (e.g., renaming files, sending emails).\n",
       "    *   **Great Libraries:** Python has a vast ecosystem of pre-built libraries (modules) that provide ready-made solutions for common tasks. You don't have to reinvent the wheel!\n",
       "\n",
       "*   **Possible Downsides:**\n",
       "    *   **Speed:**  Python can be slightly slower than some other languages (like C++ or Java) for computationally intensive tasks. However, this is usually not a concern for beginners or for many common projects.\n",
       "\n",
       "**2. JavaScript:**\n",
       "\n",
       "*   **Why it's a good choice:**\n",
       "    *   **Web Development Focus:** JavaScript is *essential* for front-end web development. It's what makes websites interactive (e.g., buttons that do things, animations, dynamic content). If you're interested in creating websites that users can interact with, JavaScript is a must-learn.\n",
       "    *   **Ubiquity:**  JavaScript runs in every web browser.\n",
       "    *   **Node.js:**  JavaScript can also be used for back-end web development (server-side) using Node.js. This means you can use JavaScript for the entire web application.\n",
       "    *   **Large Community:** Like Python, JavaScript has a huge and active community.\n",
       "    *   **Interactive and Visual:** You get immediate visual feedback as you're learning JavaScript by seeing your code change the way a website looks and behaves.\n",
       "\n",
       "*   **Possible Downsides:**\n",
       "    *   **Can be Tricky:**  JavaScript has some quirks and nuances that can be confusing for beginners (e.g., asynchronous programming, the `this` keyword).\n",
       "    *   **Front-End Focus (initially):** While JavaScript *can* be used for back-end development, you'll typically start by learning how to manipulate web pages, which may not appeal to everyone.\n",
       "\n",
       "**3. Fortran:**\n",
       "\n",
       "*   **Why it's *not* recommended for most high school students (at least not as a first language):**\n",
       "    *   **Specialized:** Fortran is primarily used in scientific and engineering computing (e.g., weather forecasting, computational fluid dynamics).  It's very powerful for those domains, but not as broadly applicable as Python or JavaScript.\n",
       "    *   **Older Syntax:** Fortran's syntax can feel less modern and less intuitive than Python or JavaScript.\n",
       "    *   **Smaller Community:** The Fortran community is smaller compared to Python or JavaScript, which means fewer readily available resources and less help when you get stuck.\n",
       "    *   **Less Beginner-Friendly:** Fortran is generally not considered a beginner-friendly language.\n",
       "\n",
       "**In summary:**\n",
       "\n",
       "*   **If you're interested in data science, machine learning, general-purpose programming, or want a very easy-to-learn language, choose Python.**\n",
       "*   **If you're passionate about web development and want to build interactive websites, choose JavaScript.**\n",
       "*   **Avoid Fortran unless you have a specific reason to learn it related to scientific computing.**\n",
       "\n",
       "**Here's my recommended learning path (regardless of which language you choose):**\n",
       "\n",
       "1.  **Start with the Basics:** Focus on fundamental programming concepts:\n",
       "    *   Variables\n",
       "    *   Data types (numbers, strings, booleans)\n",
       "    *   Operators (arithmetic, comparison, logical)\n",
       "    *   Conditional statements (if/else)\n",
       "    *   Loops (for, while)\n",
       "    *   Functions\n",
       "2.  **Practice, Practice, Practice:** The best way to learn is by doing.  Work through tutorials, solve coding challenges (e.g., on websites like HackerRank, LeetCode, Codecademy), and build small projects.\n",
       "3.  **Learn to Debug:**  Debugging is a crucial skill. Learn how to use debugging tools to find and fix errors in your code.\n",
       "4.  **Join the Community:**  Participate in online forums, ask questions, and help others.\n",
       "5.  **Build Projects:**  Once you have a solid foundation, start working on larger projects that you're passionate about.  This is where you'll really solidify your skills and learn new things.\n",
       "\n",
       "Good luck with your programming journey! Let me know if you have any other questions.\n"
      ],
      "text/plain": [
       "<IPython.core.display.Markdown object>"
      ]
     },
     "metadata": {},
     "output_type": "display_data"
    }
   ],
   "source": [
    "prompt = \"\"\"I'm a high school student. Which of these activities do you suggest and why:\n",
    "a) learn Python\n",
    "b) learn JavaScript\n",
    "c) learn Fortran\n",
    "\"\"\"\n",
    "\n",
    "response = client.models.generate_content(model=MODEL_ID, contents=prompt)\n",
    "display(Markdown(response.text))"
   ]
  },
  {
   "cell_type": "markdown",
   "metadata": {
    "id": "iTd60b1GdIsx"
   },
   "source": [
    "### Improve response quality by including examples"
   ]
  },
  {
   "cell_type": "markdown",
   "metadata": {
    "id": "yJi44NejdJYE"
   },
   "source": [
    "Another way to improve response quality is to add examples in your prompt. The LLM learns in-context from the examples on how to respond. Typically, one to five examples (shots) are enough to improve the quality of responses. Including too many examples can cause the model to over-fit the data and reduce the quality of responses.\n",
    "\n",
    "Similar to classical model training, the quality and distribution of the examples is very important. Pick examples that are representative of the scenarios that you need the model to learn, and keep the distribution of the examples (e.g. number of examples per class in the case of classification) aligned with your actual distribution."
   ]
  },
  {
   "cell_type": "markdown",
   "metadata": {
    "id": "sMbLginWdOKs"
   },
   "source": [
    "#### Zero-shot prompt"
   ]
  },
  {
   "cell_type": "markdown",
   "metadata": {
    "id": "Crh2Loi2dQ0v"
   },
   "source": [
    "Below is an example of zero-shot prompting, where you don't provide any examples to the LLM within the prompt itself."
   ]
  },
  {
   "cell_type": "code",
   "execution_count": 19,
   "metadata": {
    "id": "-7myRc-SdTQ4",
    "tags": []
   },
   "outputs": [
    {
     "data": {
      "text/markdown": [
       "Sentiment: Positive\n"
      ],
      "text/plain": [
       "<IPython.core.display.Markdown object>"
      ]
     },
     "metadata": {},
     "output_type": "display_data"
    }
   ],
   "source": [
    "prompt = \"\"\"Decide whether a Tweet's sentiment is positive, neutral, or negative.\n",
    "\n",
    "Tweet: I loved the new YouTube video you made!\n",
    "Sentiment:\n",
    "\"\"\"\n",
    "\n",
    "response = client.models.generate_content(model=MODEL_ID, contents=prompt)\n",
    "display(Markdown(response.text))"
   ]
  },
  {
   "cell_type": "markdown",
   "metadata": {
    "id": "ucRtPn9SdL64"
   },
   "source": [
    "#### One-shot prompt"
   ]
  },
  {
   "cell_type": "markdown",
   "metadata": {
    "id": "rs0gQH2vdYBi"
   },
   "source": [
    "Below is an example of one-shot prompting, where you provide one example to the LLM within the prompt to give some guidance on what type of response you want."
   ]
  },
  {
   "cell_type": "code",
   "execution_count": 20,
   "metadata": {
    "id": "iEq-KxGYdaT5",
    "tags": []
   },
   "outputs": [
    {
     "data": {
      "text/markdown": [
       "Sentiment: negative\n"
      ],
      "text/plain": [
       "<IPython.core.display.Markdown object>"
      ]
     },
     "metadata": {},
     "output_type": "display_data"
    }
   ],
   "source": [
    "prompt = \"\"\"Decide whether a Tweet's sentiment is positive, neutral, or negative.\n",
    "\n",
    "Tweet: I loved the new YouTube video you made!\n",
    "Sentiment: positive\n",
    "\n",
    "Tweet: That was awful. Super boring 😠\n",
    "Sentiment:\n",
    "\"\"\"\n",
    "\n",
    "response = client.models.generate_content(model=MODEL_ID, contents=prompt)\n",
    "display(Markdown(response.text))"
   ]
  },
  {
   "cell_type": "markdown",
   "metadata": {
    "id": "JnKLjJzmdfL_"
   },
   "source": [
    "#### Few-shot prompt"
   ]
  },
  {
   "cell_type": "markdown",
   "metadata": {
    "id": "6Zv-9F5OdgI_"
   },
   "source": [
    "Below is an example of few-shot prompting, where you provide a few examples to the LLM within the prompt to give some guidance on what type of response you want."
   ]
  },
  {
   "cell_type": "code",
   "execution_count": 21,
   "metadata": {
    "id": "u37P9tG4dk9S",
    "tags": []
   },
   "outputs": [
    {
     "data": {
      "text/markdown": [
       "Sentiment: positive\n"
      ],
      "text/plain": [
       "<IPython.core.display.Markdown object>"
      ]
     },
     "metadata": {},
     "output_type": "display_data"
    }
   ],
   "source": [
    "prompt = \"\"\"Decide whether a Tweet's sentiment is positive, neutral, or negative.\n",
    "\n",
    "Tweet: I loved the new YouTube video you made!\n",
    "Sentiment: positive\n",
    "\n",
    "Tweet: That was awful. Super boring 😠\n",
    "Sentiment: negative\n",
    "\n",
    "Tweet: Something surprised me about this video - it was actually original. It was not the same old recycled stuff that I always see. Watch it - you will not regret it.\n",
    "Sentiment:\n",
    "\"\"\"\n",
    "\n",
    "response = client.models.generate_content(model=MODEL_ID, contents=prompt)\n",
    "display(Markdown(response.text))"
   ]
  },
  {
   "cell_type": "markdown",
   "metadata": {
    "id": "wDMD3xb2dvX6"
   },
   "source": [
    "#### Choosing between zero-shot, one-shot, few-shot prompting methods"
   ]
  },
  {
   "cell_type": "markdown",
   "metadata": {
    "id": "s92W0YpNdxJp"
   },
   "source": [
    "Which prompt technique to use will solely depends on your goal. The zero-shot prompts are more open-ended and can give you creative answers, while one-shot and few-shot prompts teach the model how to behave so you can get more predictable answers that are consistent with the examples provided."
   ]
  }
 ],
 "metadata": {
  "colab": {
   "name": "intro_prompt_design.ipynb",
   "toc_visible": true
  },
  "environment": {
   "kernel": "conda-base-py",
   "name": "workbench-notebooks.m129",
   "type": "gcloud",
   "uri": "us-docker.pkg.dev/deeplearning-platform-release/gcr.io/workbench-notebooks:m129"
  },
  "kernelspec": {
   "display_name": "Python 3 (ipykernel) (Local)",
   "language": "python",
   "name": "conda-base-py"
  },
  "language_info": {
   "codemirror_mode": {
    "name": "ipython",
    "version": 3
   },
   "file_extension": ".py",
   "mimetype": "text/x-python",
   "name": "python",
   "nbconvert_exporter": "python",
   "pygments_lexer": "ipython3",
   "version": "3.10.16"
  }
 },
 "nbformat": 4,
 "nbformat_minor": 4
}
